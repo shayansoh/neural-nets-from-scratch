{
 "cells": [
  {
   "cell_type": "markdown",
   "source": [
    "# Building an Artificial Neural Network from Scratch\r\n",
    "## Titanic Survivability Dataset"
   ],
   "metadata": {}
  },
  {
   "cell_type": "code",
   "execution_count": 191,
   "source": [
    "import numpy as np\r\n",
    "import pandas as pd\r\n",
    "import matplotlib.pyplot as plt\r\n",
    "import seaborn as sns\r\n",
    "from sklearn.model_selection import train_test_split\r\n",
    "from sklearn.preprocessing import StandardScaler"
   ],
   "outputs": [],
   "metadata": {}
  },
  {
   "cell_type": "markdown",
   "source": [
    "## 1.0 Reading the Data and Data Cleaning"
   ],
   "metadata": {}
  },
  {
   "cell_type": "code",
   "execution_count": 192,
   "source": [
    "df = pd.read_csv('train.csv')\r\n",
    "print(df.shape)\r\n",
    "df.head()"
   ],
   "outputs": [
    {
     "output_type": "stream",
     "name": "stdout",
     "text": [
      "(891, 12)\n"
     ]
    },
    {
     "output_type": "execute_result",
     "data": {
      "text/plain": [
       "   PassengerId  Survived  Pclass  \\\n",
       "0            1         0       3   \n",
       "1            2         1       1   \n",
       "2            3         1       3   \n",
       "3            4         1       1   \n",
       "4            5         0       3   \n",
       "\n",
       "                                                Name     Sex   Age  SibSp  \\\n",
       "0                            Braund, Mr. Owen Harris    male  22.0      1   \n",
       "1  Cumings, Mrs. John Bradley (Florence Briggs Th...  female  38.0      1   \n",
       "2                             Heikkinen, Miss. Laina  female  26.0      0   \n",
       "3       Futrelle, Mrs. Jacques Heath (Lily May Peel)  female  35.0      1   \n",
       "4                           Allen, Mr. William Henry    male  35.0      0   \n",
       "\n",
       "   Parch            Ticket     Fare Cabin Embarked  \n",
       "0      0         A/5 21171   7.2500   NaN        S  \n",
       "1      0          PC 17599  71.2833   C85        C  \n",
       "2      0  STON/O2. 3101282   7.9250   NaN        S  \n",
       "3      0            113803  53.1000  C123        S  \n",
       "4      0            373450   8.0500   NaN        S  "
      ],
      "text/html": [
       "<div>\n",
       "<style scoped>\n",
       "    .dataframe tbody tr th:only-of-type {\n",
       "        vertical-align: middle;\n",
       "    }\n",
       "\n",
       "    .dataframe tbody tr th {\n",
       "        vertical-align: top;\n",
       "    }\n",
       "\n",
       "    .dataframe thead th {\n",
       "        text-align: right;\n",
       "    }\n",
       "</style>\n",
       "<table border=\"1\" class=\"dataframe\">\n",
       "  <thead>\n",
       "    <tr style=\"text-align: right;\">\n",
       "      <th></th>\n",
       "      <th>PassengerId</th>\n",
       "      <th>Survived</th>\n",
       "      <th>Pclass</th>\n",
       "      <th>Name</th>\n",
       "      <th>Sex</th>\n",
       "      <th>Age</th>\n",
       "      <th>SibSp</th>\n",
       "      <th>Parch</th>\n",
       "      <th>Ticket</th>\n",
       "      <th>Fare</th>\n",
       "      <th>Cabin</th>\n",
       "      <th>Embarked</th>\n",
       "    </tr>\n",
       "  </thead>\n",
       "  <tbody>\n",
       "    <tr>\n",
       "      <th>0</th>\n",
       "      <td>1</td>\n",
       "      <td>0</td>\n",
       "      <td>3</td>\n",
       "      <td>Braund, Mr. Owen Harris</td>\n",
       "      <td>male</td>\n",
       "      <td>22.0</td>\n",
       "      <td>1</td>\n",
       "      <td>0</td>\n",
       "      <td>A/5 21171</td>\n",
       "      <td>7.2500</td>\n",
       "      <td>NaN</td>\n",
       "      <td>S</td>\n",
       "    </tr>\n",
       "    <tr>\n",
       "      <th>1</th>\n",
       "      <td>2</td>\n",
       "      <td>1</td>\n",
       "      <td>1</td>\n",
       "      <td>Cumings, Mrs. John Bradley (Florence Briggs Th...</td>\n",
       "      <td>female</td>\n",
       "      <td>38.0</td>\n",
       "      <td>1</td>\n",
       "      <td>0</td>\n",
       "      <td>PC 17599</td>\n",
       "      <td>71.2833</td>\n",
       "      <td>C85</td>\n",
       "      <td>C</td>\n",
       "    </tr>\n",
       "    <tr>\n",
       "      <th>2</th>\n",
       "      <td>3</td>\n",
       "      <td>1</td>\n",
       "      <td>3</td>\n",
       "      <td>Heikkinen, Miss. Laina</td>\n",
       "      <td>female</td>\n",
       "      <td>26.0</td>\n",
       "      <td>0</td>\n",
       "      <td>0</td>\n",
       "      <td>STON/O2. 3101282</td>\n",
       "      <td>7.9250</td>\n",
       "      <td>NaN</td>\n",
       "      <td>S</td>\n",
       "    </tr>\n",
       "    <tr>\n",
       "      <th>3</th>\n",
       "      <td>4</td>\n",
       "      <td>1</td>\n",
       "      <td>1</td>\n",
       "      <td>Futrelle, Mrs. Jacques Heath (Lily May Peel)</td>\n",
       "      <td>female</td>\n",
       "      <td>35.0</td>\n",
       "      <td>1</td>\n",
       "      <td>0</td>\n",
       "      <td>113803</td>\n",
       "      <td>53.1000</td>\n",
       "      <td>C123</td>\n",
       "      <td>S</td>\n",
       "    </tr>\n",
       "    <tr>\n",
       "      <th>4</th>\n",
       "      <td>5</td>\n",
       "      <td>0</td>\n",
       "      <td>3</td>\n",
       "      <td>Allen, Mr. William Henry</td>\n",
       "      <td>male</td>\n",
       "      <td>35.0</td>\n",
       "      <td>0</td>\n",
       "      <td>0</td>\n",
       "      <td>373450</td>\n",
       "      <td>8.0500</td>\n",
       "      <td>NaN</td>\n",
       "      <td>S</td>\n",
       "    </tr>\n",
       "  </tbody>\n",
       "</table>\n",
       "</div>"
      ]
     },
     "metadata": {},
     "execution_count": 192
    }
   ],
   "metadata": {}
  },
  {
   "cell_type": "code",
   "execution_count": 193,
   "source": [
    "print('Missing values in percentage')\r\n",
    "df.isna().sum() / df.shape[0] * 100"
   ],
   "outputs": [
    {
     "output_type": "stream",
     "name": "stdout",
     "text": [
      "Missing values in percentage\n"
     ]
    },
    {
     "output_type": "execute_result",
     "data": {
      "text/plain": [
       "PassengerId     0.000000\n",
       "Survived        0.000000\n",
       "Pclass          0.000000\n",
       "Name            0.000000\n",
       "Sex             0.000000\n",
       "Age            19.865320\n",
       "SibSp           0.000000\n",
       "Parch           0.000000\n",
       "Ticket          0.000000\n",
       "Fare            0.000000\n",
       "Cabin          77.104377\n",
       "Embarked        0.224467\n",
       "dtype: float64"
      ]
     },
     "metadata": {},
     "execution_count": 193
    }
   ],
   "metadata": {}
  },
  {
   "cell_type": "code",
   "execution_count": 194,
   "source": [
    "# Cabin has 77% missing values. We will just drop this features. We will also drop embarked for now (in reality, we can also impute this with mode)\r\n",
    "# lets see the 'Age' distribution and 'Survived' distribution\r\n",
    "\r\n",
    "df.drop(['Cabin', 'Embarked'], axis=1, inplace=True)\r\n",
    "plt.hist(df['Age'])\r\n",
    "plt.title('Age Distribution')\r\n",
    "plt.show()\r\n",
    "\r\n",
    "df['Survived'].value_counts().plot(kind='bar')\r\n",
    "plt.xticks(rotation=0)\r\n",
    "plt.title('Survived Distribution')\r\n",
    "plt.show()"
   ],
   "outputs": [
    {
     "output_type": "display_data",
     "data": {
      "text/plain": [
       "<Figure size 432x288 with 1 Axes>"
      ],
      "image/png": "[encoded data removed]"
     },
     "metadata": {
      "needs_background": "light"
     }
    },
    {
     "output_type": "display_data",
     "data": {
      "text/plain": [
       "<Figure size 432x288 with 1 Axes>"
      ],
      "image/png": "[encoded data removed]"
     },
     "metadata": {
      "needs_background": "light"
     }
    }
   ],
   "metadata": {}
  },
  {
   "cell_type": "code",
   "execution_count": 195,
   "source": [
    "# lets impute the missing value in age with Median\r\n",
    "df['Age'] = df['Age'].fillna(df['Age'].median())\r\n"
   ],
   "outputs": [],
   "metadata": {}
  },
  {
   "cell_type": "markdown",
   "source": [
    "## 2.0 Feature Engineering"
   ],
   "metadata": {}
  },
  {
   "cell_type": "code",
   "execution_count": 197,
   "source": [
    "df['Other_Family'] = df['SibSp'] + df['Parch']\r\n",
    "df['Travel_Alone'] = 0\r\n",
    "df.loc[df['Other_Family'] == 0, 'Travel_Alone'] = 1"
   ],
   "outputs": [],
   "metadata": {}
  },
  {
   "cell_type": "code",
   "execution_count": 199,
   "source": [
    "df['Sex'].replace(['female', 'male'], [0, 1], inplace=True)"
   ],
   "outputs": [],
   "metadata": {}
  },
  {
   "cell_type": "markdown",
   "source": [
    "We will explore detailed feature engineering at a later stage. Lets explore the main idea of this notebook and that is building a neural network from scratch."
   ],
   "metadata": {}
  },
  {
   "cell_type": "markdown",
   "source": [
    "## 3.0 Preparing Data for our Neural Nets"
   ],
   "metadata": {}
  },
  {
   "cell_type": "code",
   "execution_count": 200,
   "source": [
    "X = df.drop(['PassengerId', 'Name', 'Ticket', 'Survived'], axis=1)\r\n",
    "y = df['Survived']\r\n",
    "X_train, X_test, y_train, y_test = train_test_split(X, y, test_size=0.2, random_state=42)\r\n",
    "\r\n",
    "X_train = X_train.copy()\r\n",
    "X_test = X_test.copy()\r\n",
    "\r\n",
    "scaler = StandardScaler()\r\n",
    "X_train[['Age', 'Fare']] = scaler.fit_transform(X_train[['Age', 'Fare']])\r\n",
    "X_test[['Age', 'Fare']] = scaler.transform(X_test[['Age', 'Fare']])\r\n",
    "\r\n",
    "X_train = X_train.values\r\n",
    "X_test = X_test.values"
   ],
   "outputs": [],
   "metadata": {}
  },
  {
   "cell_type": "markdown",
   "source": [
    "## 4.0 Finally, Neural Nets!!"
   ],
   "metadata": {}
  },
  {
   "cell_type": "code",
   "execution_count": 207,
   "source": [
    "np.random.seed(42)\r\n",
    "\r\n",
    "class DenseLayer:\r\n",
    "    def __init__(self, n_inputs, n_neurons):\r\n",
    "        self.weights = 0.1 * np.random.randn(n_inputs, n_neurons)\r\n",
    "        self.biases = np.zeros((1, n_neurons))\r\n",
    "        \r\n",
    "    def forward(self, inputs):\r\n",
    "        self.output = np.dot(inputs, self.weights) + self.biases\r\n",
    "\r\n",
    "class ReLU:\r\n",
    "    def forward(self, inputs):\r\n",
    "        self.output = np.maximum(0, inputs)\r\n",
    "\r\n",
    "class Softmax:\r\n",
    "    def forward(self, inputs):\r\n",
    "        exp_val = np.exp(inputs - np.max(inputs, axis=1, keepdims=True))\r\n",
    "        self.output = exp_val / np.sum(exp_val, axis=1, keepdims=True)\r\n",
    "\r\n",
    "class Loss:\r\n",
    "    def calculate(self, output, y):\r\n",
    "        sample_losses = self.forward(output, y)\r\n",
    "        return np.mean(sample_losses)\r\n",
    "\r\n",
    "# categorical cross-entropy loss\r\n",
    "class CCELoss(Loss): \r\n",
    "    def forward(self, y_pred, y_true):\r\n",
    "        samples = len(y_pred)\r\n",
    "        y_pred_clipped = np.clip(y_pred, 1e-7, 1-1e-7)\r\n",
    "\r\n",
    "        if len(y_true.shape) == 1:\r\n",
    "            correct_confidences = y_pred_clipped[range(samples), y_true]\r\n",
    "\r\n",
    "        elif len(y_true.shape) == 2:\r\n",
    "            correct_confidences = np.sum(y_pred_clipped * y_true, axis=1)\r\n",
    "\r\n",
    "        negative_log_likelihoods = np.log(correct_confidences)\r\n",
    "        return negative_log_likelihoods\r\n",
    "\r\n",
    "\r\n",
    "# layer 1\r\n",
    "layer_1 = DenseLayer(X_train.shape[1], 11)\r\n",
    "activation_1 = ReLU()\r\n",
    "\r\n",
    "layer_1.forward(X_train)\r\n",
    "activation_1.forward(layer_1.output)\r\n",
    "\r\n",
    "# layer 2\r\n",
    "layer_2 = DenseLayer(11, 2)\r\n",
    "activation_2 = Softmax()\r\n",
    "\r\n",
    "layer_2.forward(activation_1.output)\r\n",
    "activation_2.forward(layer_2.output)\r\n",
    "\r\n",
    "loss_F = CCELoss()\r\n",
    "loss = loss_F.calculate(activation_2.output, y_train)\r\n",
    "\r\n",
    "print(loss)\r\n"
   ],
   "outputs": [
    {
     "output_type": "stream",
     "name": "stdout",
     "text": [
      "-0.6875256774568395\n"
     ]
    }
   ],
   "metadata": {}
  },
  {
   "cell_type": "code",
   "execution_count": 182,
   "source": [],
   "outputs": [
    {
     "output_type": "execute_result",
     "data": {
      "text/plain": [
       "2"
      ]
     },
     "metadata": {},
     "execution_count": 182
    }
   ],
   "metadata": {}
  },
  {
   "cell_type": "code",
   "execution_count": null,
   "source": [],
   "outputs": [],
   "metadata": {}
  }
 ],
 "metadata": {
  "orig_nbformat": 4,
  "language_info": {
   "name": "python"
  }
 },
 "nbformat": 4,
 "nbformat_minor": 2
}